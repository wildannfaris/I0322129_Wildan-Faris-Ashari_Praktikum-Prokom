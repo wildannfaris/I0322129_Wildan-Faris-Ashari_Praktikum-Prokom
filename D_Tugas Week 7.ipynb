{
 "cells": [
  {
   "cell_type": "code",
   "execution_count": 25,
   "metadata": {},
   "outputs": [
    {
     "data": {
      "text/plain": [
       "[[1, 2], [3, 4]]"
      ]
     },
     "execution_count": 25,
     "metadata": {},
     "output_type": "execute_result"
    }
   ],
   "source": [
    "#Buatlah sebuah fungsi untuk membuat matrix berdasarkan input dari user\n",
    "\n",
    "def create_matrix(baris,kolom):\n",
    "    matrix = []\n",
    "\n",
    "    #Tulis kode kamu disini\n",
    "    for a in range (baris):\n",
    "        area = []\n",
    "        for b in range (kolom):\n",
    "            isi = (int(input (f\"[{a}][{b}]\")))\n",
    "            area.append(isi)\n",
    "        matrix.append(area)\n",
    "\n",
    "    return matrix\n",
    "\n",
    "\n",
    "baris = int(input('Masukkan Jumlah Baris:\\t'))\n",
    "kolom = int(input('Masukkan Jumlah Kolom:\\t'))\n",
    "\n",
    "create_matrix(baris,kolom)"
   ]
  },
  {
   "cell_type": "code",
   "execution_count": 5,
   "metadata": {},
   "outputs": [
    {
     "data": {
      "text/plain": [
       "[[1, 2, 23], [3, 4, 4], [5, 3, 2]]"
      ]
     },
     "execution_count": 5,
     "metadata": {},
     "output_type": "execute_result"
    }
   ],
   "source": [
    "#Buatlah sebuah fungsi untuk mencari invers matrix berdasarkan input matrix dari user\n",
    "\n",
    "def invers():\n",
    "    det = []\n",
    "\n",
    "    #Tulis kode kamu disini\n",
    "    uk = int(input('Ukuran matriks : '))\n",
    "\n",
    "    for a in range(uk):\n",
    "        area = []\n",
    "        for b in range(uk):\n",
    "            isi = int(input(f\"[{a}][{b}]\"))\n",
    "            area.append(isi)\n",
    "        det.append(area)\n",
    "    \n",
    "    def determinan(det):\n",
    "        c = len(det)\n",
    "        if c == 1:\n",
    "            return det[0][0]\n",
    "        elif c == 2:\n",
    "            return det[0][0] * det[1][1] - det[0][1] * det[1][0]\n",
    "        else:\n",
    "            deter = 0\n",
    "            for i in range(c):\n",
    "                sub = [area[:i] + area[i+1:] for area in det[1:]]\n",
    "                deter += ((-1)**i) * det[0][i] * determinan(sub)\n",
    "            return deter\n",
    "    \n",
    "    deter = determinan(det)\n",
    "\n",
    "    baris = int(input('Masukkan Jumlah Baris:\\t'))\n",
    "    kolom = int(input('Masukkan Jumlah Kolom:\\t'))\n",
    "\n",
    "\n",
    "\n",
    "\n",
    "\n",
    "    return det\n",
    "\n",
    "invers()"
   ]
  },
  {
   "cell_type": "code",
   "execution_count": 11,
   "metadata": {},
   "outputs": [],
   "source": [
    "#Buatlah Fungsi untuk melakukan pembagian matrix antar matrix berdasarkan input user menggunakan nested loop\n",
    "\n",
    "def bagi_matrix(matrix1, skalar):\n",
    "    hasil = []\n",
    "\n",
    "    #Tulis kode kamu disini\n",
    "    for a in range(len(matrix1)):\n",
    "        area = []\n",
    "        for b in range (len(matrix1[0])):\n",
    "            if skalar[a][b]==0:\n",
    "                print(\"Matrix tidak dapat dibagi\")\n",
    "                return None\n",
    "            area.append(matrix1[a][b]/skalar[a][b])\n",
    "        hasil.append(area)\n",
    "\n",
    "    return hasil\n",
    "\n",
    "\n",
    "\n",
    "matrix1 = [[8,2],[4,16]]\n",
    "#skalar = int(input('Matrix dibagi berapa?\\t'))\n",
    "\n",
    "\n",
    "#bagi_matrix(matrix1, skalar)"
   ]
  }
 ],
 "metadata": {
  "kernelspec": {
   "display_name": "Python 3",
   "language": "python",
   "name": "python3"
  },
  "language_info": {
   "codemirror_mode": {
    "name": "ipython",
    "version": 3
   },
   "file_extension": ".py",
   "mimetype": "text/x-python",
   "name": "python",
   "nbconvert_exporter": "python",
   "pygments_lexer": "ipython3",
   "version": "3.10.7"
  },
  "orig_nbformat": 4
 },
 "nbformat": 4,
 "nbformat_minor": 2
}
