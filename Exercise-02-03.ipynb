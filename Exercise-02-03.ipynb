{
 "cells": [
  {
   "cell_type": "code",
   "execution_count": 1,
   "metadata": {},
   "outputs": [
    {
     "name": "stdout",
     "output_type": "stream",
     "text": [
      "Wildan Faris Ashari\n",
      "I0322129\n",
      "D\n"
     ]
    }
   ],
   "source": [
    "print(input(\"Nama: \"))\n",
    "print(input(\"NIM: \"))\n",
    "print(input(\"Kelas: \"))"
   ]
  },
  {
   "attachments": {},
   "cell_type": "markdown",
   "metadata": {},
   "source": [
    "## 1."
   ]
  },
  {
   "attachments": {},
   "cell_type": "markdown",
   "metadata": {},
   "source": [
    "diketahui dimensi sebuah aquarium tanpa penutup atas sebagai berikut:\n",
    "\n",
    "```python\n",
    "p = 11\n",
    "l = 1.99\n",
    "t = 25.87\n",
    "```\n",
    "buatkan program sederhana untuk menghitung diagonal tiap sisi dan luas permukaan aquarium tersebut tanpa menggunakan module math."
   ]
  },
  {
   "cell_type": "code",
   "execution_count": 6,
   "metadata": {},
   "outputs": [
    {
     "name": "stdout",
     "output_type": "stream",
     "text": [
      "=========================================================\n",
      "Diagonal samping aquarium adalah :  28.11150831954771\n",
      "Diagonal depan aquarium adalah :  25.946425572706545\n",
      "Diagonal bawah aquarium adalah :  11.17855536283647\n",
      "=========================================================\n",
      "Luas permukaan aquarium adalah :  693.9925999999999\n",
      "=========================================================\n"
     ]
    }
   ],
   "source": [
    "#variabel dimensi aquarium\n",
    "p = 11\n",
    "l = 1.99\n",
    "t = 25.87\n",
    "\n",
    "#program menghitung diagonal sisi aquarium\n",
    "print('=========================================================')\n",
    "diagonal_samping = (p**2 + t**2)**0.5\n",
    "diagonal_depan = (l**2 + t**2)**0.5\n",
    "diagonal_bawah = (p**2 + l**2)**0.5\n",
    "print('Diagonal samping aquarium adalah : ', diagonal_samping)\n",
    "print('Diagonal depan aquarium adalah : ', diagonal_depan)\n",
    "print('Diagonal bawah aquarium adalah : ', diagonal_bawah)\n",
    "print('=========================================================')\n",
    "\n",
    "#program menghitung luas permukaan aquarium\n",
    "luas_permukaan = ((2*(p*t) + 2*(l*t) + (p*l)))\n",
    "print('Luas permukaan aquarium adalah : ', luas_permukaan)\n",
    "print('=========================================================')\n"
   ]
  },
  {
   "attachments": {},
   "cell_type": "markdown",
   "metadata": {},
   "source": [
    "## 2."
   ]
  },
  {
   "attachments": {},
   "cell_type": "markdown",
   "metadata": {},
   "source": [
    "diberikan data nilai mahasiswa sebagai berikut:"
   ]
  },
  {
   "cell_type": "code",
   "execution_count": 1,
   "metadata": {},
   "outputs": [],
   "source": [
    "nilai = {\n",
    "    'Frank': 80,\n",
    "    'Abagnale': 75,\n",
    "    'Cobb': 90,\n",
    "    'Andy Dufresne': 85,\n",
    "    'Ariadne': 70\n",
    "}"
   ]
  },
  {
   "attachments": {},
   "cell_type": "markdown",
   "metadata": {},
   "source": [
    "buatlah program sederhana untuk menghitung nilai rata-rata semua mahasiswa dan mencari siapa yang mendapatkan nilai tertinggi dan nilai terendah. \n",
    "> *note: tidak perlu menggunakan loops untuk membuat program nya*"
   ]
  },
  {
   "cell_type": "code",
   "execution_count": 2,
   "metadata": {},
   "outputs": [
    {
     "name": "stdout",
     "output_type": "stream",
     "text": [
      "=======================================================\n",
      "Nilai rata-rata seluruh mahasiswa adalah :  80.0\n",
      "=======================================================\n",
      "Nilai mahasiswa yang tertinggi adalah :  90\n",
      "Mahasiswa dengan nilai tertinggi adalah :  Cobb\n",
      "=======================================================\n",
      "Nilai mahasiswa yang terendah adalah :  70\n",
      "Mahasiswa dengan nulai terendah adalah :  Ariadne\n"
     ]
    }
   ],
   "source": [
    "nilai = {\n",
    "    'Frank': 80,\n",
    "    'Abagnale': 75,\n",
    "    'Cobb': 90,\n",
    "    'Andy Dufresne': 85,\n",
    "    'Ariadne': 70\n",
    "}\n",
    "\n",
    "#porgram menghitung rata-rata\n",
    "print('=======================================================')\n",
    "rerata = (sum(nilai.values())/5)\n",
    "print('Nilai rata-rata seluruh mahasiswa adalah : ', rerata)\n",
    "\n",
    "#mencari mahasiswa dengan nilai tertinggi\n",
    "print('=======================================================')\n",
    "tertinggi = max(nilai.values())\n",
    "mahasiswa_tertinggi = max(nilai, key=nilai.get)\n",
    "print('Nilai mahasiswa yang tertinggi adalah : ', tertinggi)\n",
    "print('Mahasiswa dengan nilai tertinggi adalah : ', mahasiswa_tertinggi)\n",
    "\n",
    "#mencari mahasiswa dengan nilai terendah\n",
    "print('=======================================================')\n",
    "terendah = min(nilai.values())\n",
    "mahasiswa_terendah = min(nilai, key=nilai.get)\n",
    "print('Nilai mahasiswa yang terendah adalah : ', terendah)\n",
    "print('Mahasiswa dengan nulai terendah adalah : ', mahasiswa_terendah)"
   ]
  },
  {
   "attachments": {},
   "cell_type": "markdown",
   "metadata": {},
   "source": [
    "## 3. "
   ]
  },
  {
   "attachments": {},
   "cell_type": "markdown",
   "metadata": {},
   "source": [
    "diberikan list aslab sebagai berikut:\n",
    "```python\n",
    "list_aslab = [\n",
    "    {\"nama\": \"Berlian Safri Prakoso\", \"nim\": \"I0320017\", \"kontak\": \"0858XXXXXXXX\"},\n",
    "    {\"nama\": \"Halidya Siti Hanifah\", \"nim\": \"I0320044\", \"kontak\": \"0878XXXXXXXX\"},\n",
    "    {\"nama\": \"Nurki Putra Mahardika\", \"nim\": \"I0320076\", \"kontak\": \"0877XXXXXXXX\"},\n",
    "    {\"nama\": \"Aji Manarul Aziz\", \"nim\": \"I0320119\", \"kontak\": \"0812XXXXXXXX\"},\n",
    "    {\"nama\": \"Alica Ayu Fitriani\", \"nim\": \"I0320121\", \"kontak\": \"0896XXXXXXXX\"},\n",
    "    {\"nama\": \"Dendy Halim Kusuma\", \"nim\": \"I0320125\", \"kontak\": \"0822XXXXXXXX\"}\n",
    "]\n",
    "```\n",
    "* **A** Tuliskan kode untuk mengakses informasi tentang \"nama\" dari semua aslab mulai dari index 1 sampai 5\n",
    "* **B** Tambahkan informasi berikut pada data aslab:\n",
    "```python\n",
    "    surel = [\"berlian@student.uns.ac.id\",\n",
    "          \"halidya@student.uns.ac.id\",\n",
    "          \"nurki@student.uns.ac.id\",\n",
    "          \"manarul@student.uns.ac.id\",\n",
    "          \"alica@student.uns.ac.id\",\n",
    "          \"dendy@student.uns.ac.id\"]\n",
    "```\n",
    "> *note: kalian hanya boleh menggunakan key-value pair yang disebutkan di dalam teks, tanpa menggunakan informasi tambahan yang diambil pada list yang ada*"
   ]
  },
  {
   "cell_type": "code",
   "execution_count": 4,
   "metadata": {},
   "outputs": [
    {
     "name": "stdout",
     "output_type": "stream",
     "text": [
      "===============================================\n",
      "Nama Asisten :  Halidya Siti Hanifah\n",
      "Nama Asisten :  Nurki Putra Mahardika\n",
      "Nama Asisten :  Aji Manarul Aziz\n",
      "Nama Asisten :  Alica Ayu Fitriani\n",
      "Nama Asisten :  Dendy Halim Kusuma\n",
      "===============================================\n",
      "\n",
      "====================================================================================\n",
      "{'nama': 'Berlian Safri Prakoso', 'nim': 'I0320017', 'kontak': '0858XXXXXXXX', 'surel': 'berlian@student.uns.ac.id'}\n",
      "{'nama': 'Halidya Siti Hanifah', 'nim': 'I0320044', 'kontak': '0878XXXXXXXX', 'surel': 'halidya@student.uns.ac.id'}\n",
      "{'nama': 'Nurki Putra Mahardika', 'nim': 'I0320076', 'kontak': '0877XXXXXXXX', 'surel': 'nurki@student.uns.ac.id'}\n",
      "{'nama': 'Aji Manarul Aziz', 'nim': 'I0320119', 'kontak': '0812XXXXXXXX', 'surel': 'manarul@student.uns.ac.id'}\n",
      "{'nama': 'Alica Ayu Fitriani', 'nim': 'I0320121', 'kontak': '0896XXXXXXXX', 'surel': 'alica@student.uns.ac.id'}\n",
      "{'nama': 'Dendy Halim Kusuma', 'nim': 'I0320125', 'kontak': '0822XXXXXXXX', 'surel': 'dendy@student.uns.ac.id'}\n",
      "====================================================================================\n"
     ]
    }
   ],
   "source": [
    "list_aslab = [\n",
    "    {\"nama\": \"Berlian Safri Prakoso\", \"nim\": \"I0320017\", \"kontak\": \"0858XXXXXXXX\"},\n",
    "    {\"nama\": \"Halidya Siti Hanifah\", \"nim\": \"I0320044\", \"kontak\": \"0878XXXXXXXX\"},\n",
    "    {\"nama\": \"Nurki Putra Mahardika\", \"nim\": \"I0320076\", \"kontak\": \"0877XXXXXXXX\"},\n",
    "    {\"nama\": \"Aji Manarul Aziz\", \"nim\": \"I0320119\", \"kontak\": \"0812XXXXXXXX\"},\n",
    "    {\"nama\": \"Alica Ayu Fitriani\", \"nim\": \"I0320121\", \"kontak\": \"0896XXXXXXXX\"},\n",
    "    {\"nama\": \"Dendy Halim Kusuma\", \"nim\": \"I0320125\", \"kontak\": \"0822XXXXXXXX\"}\n",
    "]\n",
    "\n",
    "#program mengakses nama aslab\n",
    "print('===============================================')\n",
    "for i in range (1,6) :\n",
    "    print('Nama Asisten : ', list_aslab[i][\"nama\"])\n",
    "print('===============================================''\\n')\n",
    "\n",
    "#program memasukkan surel ke list_aslab\n",
    "surel = [\"berlian@student.uns.ac.id\",\n",
    "          \"halidya@student.uns.ac.id\",\n",
    "          \"nurki@student.uns.ac.id\",\n",
    "          \"manarul@student.uns.ac.id\",\n",
    "          \"alica@student.uns.ac.id\",\n",
    "          \"dendy@student.uns.ac.id\"]\n",
    "\n",
    "print('===============================================')\n",
    "for i in range(len(list_aslab)) :\n",
    "    list_aslab[i][\"surel\"]=surel[i]\n",
    "for email in list_aslab :\n",
    "    print(email)\n",
    "print('===============================================')\n",
    "\n"
   ]
  }
 ],
 "metadata": {
  "kernelspec": {
   "display_name": "Python 3",
   "language": "python",
   "name": "python3"
  },
  "language_info": {
   "codemirror_mode": {
    "name": "ipython",
    "version": 3
   },
   "file_extension": ".py",
   "mimetype": "text/x-python",
   "name": "python",
   "nbconvert_exporter": "python",
   "pygments_lexer": "ipython3",
   "version": "3.10.7"
  },
  "orig_nbformat": 4,
  "vscode": {
   "interpreter": {
    "hash": "5addf786bcd861d1ce5006f23111f8cbb206731e5b61b0a5632ba9e0252558a8"
   }
  }
 },
 "nbformat": 4,
 "nbformat_minor": 2
}
